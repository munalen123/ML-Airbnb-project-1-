{
 "cells": [
  {
   "cell_type": "code",
   "execution_count": 1,
   "id": "c0b399b8-6a33-4261-bc07-a5674cbbea8d",
   "metadata": {},
   "outputs": [
    {
     "name": "stdout",
     "output_type": "stream",
     "text": [
      "Listings:\n"
     ]
    },
    {
     "data": {
      "text/html": [
       "<div>\n",
       "<style scoped>\n",
       "    .dataframe tbody tr th:only-of-type {\n",
       "        vertical-align: middle;\n",
       "    }\n",
       "\n",
       "    .dataframe tbody tr th {\n",
       "        vertical-align: top;\n",
       "    }\n",
       "\n",
       "    .dataframe thead th {\n",
       "        text-align: right;\n",
       "    }\n",
       "</style>\n",
       "<table border=\"1\" class=\"dataframe\">\n",
       "  <thead>\n",
       "    <tr style=\"text-align: right;\">\n",
       "      <th></th>\n",
       "      <th>id</th>\n",
       "      <th>name</th>\n",
       "      <th>host_id</th>\n",
       "      <th>host_name</th>\n",
       "      <th>neighbourhood_group</th>\n",
       "      <th>neighbourhood</th>\n",
       "      <th>latitude</th>\n",
       "      <th>longitude</th>\n",
       "      <th>room_type</th>\n",
       "      <th>price</th>\n",
       "      <th>minimum_nights</th>\n",
       "      <th>number_of_reviews</th>\n",
       "      <th>last_review</th>\n",
       "      <th>reviews_per_month</th>\n",
       "      <th>calculated_host_listings_count</th>\n",
       "      <th>availability_365</th>\n",
       "      <th>number_of_reviews_ltm</th>\n",
       "      <th>license</th>\n",
       "    </tr>\n",
       "  </thead>\n",
       "  <tbody>\n",
       "    <tr>\n",
       "      <th>0</th>\n",
       "      <td>2539</td>\n",
       "      <td>Superfast Wi-Fi.  Clean &amp; quiet home by the park</td>\n",
       "      <td>2787</td>\n",
       "      <td>John</td>\n",
       "      <td>Brooklyn</td>\n",
       "      <td>Kensington</td>\n",
       "      <td>40.64529</td>\n",
       "      <td>-73.97238</td>\n",
       "      <td>Private room</td>\n",
       "      <td>NaN</td>\n",
       "      <td>30</td>\n",
       "      <td>9</td>\n",
       "      <td>2018-10-19</td>\n",
       "      <td>0.08</td>\n",
       "      <td>5</td>\n",
       "      <td>343</td>\n",
       "      <td>0</td>\n",
       "      <td>NaN</td>\n",
       "    </tr>\n",
       "    <tr>\n",
       "      <th>1</th>\n",
       "      <td>2595</td>\n",
       "      <td>Skylit Midtown Manhattan Spacious Studio</td>\n",
       "      <td>2845</td>\n",
       "      <td>Jennifer</td>\n",
       "      <td>Manhattan</td>\n",
       "      <td>Midtown</td>\n",
       "      <td>40.75356</td>\n",
       "      <td>-73.98559</td>\n",
       "      <td>Entire home/apt</td>\n",
       "      <td>240.0</td>\n",
       "      <td>30</td>\n",
       "      <td>49</td>\n",
       "      <td>2022-06-21</td>\n",
       "      <td>0.26</td>\n",
       "      <td>3</td>\n",
       "      <td>365</td>\n",
       "      <td>0</td>\n",
       "      <td>NaN</td>\n",
       "    </tr>\n",
       "    <tr>\n",
       "      <th>2</th>\n",
       "      <td>5136</td>\n",
       "      <td>Spacious Family Friendly Duplex w/ Patio + Yard</td>\n",
       "      <td>7378</td>\n",
       "      <td>Rebecca</td>\n",
       "      <td>Brooklyn</td>\n",
       "      <td>Sunset Park</td>\n",
       "      <td>40.66265</td>\n",
       "      <td>-73.99454</td>\n",
       "      <td>Entire home/apt</td>\n",
       "      <td>216.0</td>\n",
       "      <td>30</td>\n",
       "      <td>4</td>\n",
       "      <td>2023-08-20</td>\n",
       "      <td>0.03</td>\n",
       "      <td>1</td>\n",
       "      <td>37</td>\n",
       "      <td>0</td>\n",
       "      <td>NaN</td>\n",
       "    </tr>\n",
       "    <tr>\n",
       "      <th>3</th>\n",
       "      <td>6848</td>\n",
       "      <td>Only 2 stops to Manhattan studio</td>\n",
       "      <td>15991</td>\n",
       "      <td>Allen</td>\n",
       "      <td>Brooklyn</td>\n",
       "      <td>Williamsburg</td>\n",
       "      <td>40.70935</td>\n",
       "      <td>-73.95342</td>\n",
       "      <td>Entire home/apt</td>\n",
       "      <td>96.0</td>\n",
       "      <td>30</td>\n",
       "      <td>195</td>\n",
       "      <td>2025-04-01</td>\n",
       "      <td>1.00</td>\n",
       "      <td>1</td>\n",
       "      <td>182</td>\n",
       "      <td>4</td>\n",
       "      <td>NaN</td>\n",
       "    </tr>\n",
       "    <tr>\n",
       "      <th>4</th>\n",
       "      <td>6872</td>\n",
       "      <td>Uptown Sanctuary w/ Private Bath (Month to Month)</td>\n",
       "      <td>16104</td>\n",
       "      <td>Kahshanna</td>\n",
       "      <td>Manhattan</td>\n",
       "      <td>East Harlem</td>\n",
       "      <td>40.80107</td>\n",
       "      <td>-73.94255</td>\n",
       "      <td>Private room</td>\n",
       "      <td>59.0</td>\n",
       "      <td>30</td>\n",
       "      <td>1</td>\n",
       "      <td>2022-06-05</td>\n",
       "      <td>0.03</td>\n",
       "      <td>2</td>\n",
       "      <td>83</td>\n",
       "      <td>0</td>\n",
       "      <td>NaN</td>\n",
       "    </tr>\n",
       "  </tbody>\n",
       "</table>\n",
       "</div>"
      ],
      "text/plain": [
       "     id                                               name  host_id  \\\n",
       "0  2539   Superfast Wi-Fi.  Clean & quiet home by the park     2787   \n",
       "1  2595           Skylit Midtown Manhattan Spacious Studio     2845   \n",
       "2  5136    Spacious Family Friendly Duplex w/ Patio + Yard     7378   \n",
       "3  6848                   Only 2 stops to Manhattan studio    15991   \n",
       "4  6872  Uptown Sanctuary w/ Private Bath (Month to Month)    16104   \n",
       "\n",
       "   host_name neighbourhood_group neighbourhood  latitude  longitude  \\\n",
       "0       John            Brooklyn    Kensington  40.64529  -73.97238   \n",
       "1   Jennifer           Manhattan       Midtown  40.75356  -73.98559   \n",
       "2    Rebecca            Brooklyn   Sunset Park  40.66265  -73.99454   \n",
       "3      Allen            Brooklyn  Williamsburg  40.70935  -73.95342   \n",
       "4  Kahshanna           Manhattan   East Harlem  40.80107  -73.94255   \n",
       "\n",
       "         room_type  price  minimum_nights  number_of_reviews last_review  \\\n",
       "0     Private room    NaN              30                  9  2018-10-19   \n",
       "1  Entire home/apt  240.0              30                 49  2022-06-21   \n",
       "2  Entire home/apt  216.0              30                  4  2023-08-20   \n",
       "3  Entire home/apt   96.0              30                195  2025-04-01   \n",
       "4     Private room   59.0              30                  1  2022-06-05   \n",
       "\n",
       "   reviews_per_month  calculated_host_listings_count  availability_365  \\\n",
       "0               0.08                               5               343   \n",
       "1               0.26                               3               365   \n",
       "2               0.03                               1                37   \n",
       "3               1.00                               1               182   \n",
       "4               0.03                               2                83   \n",
       "\n",
       "   number_of_reviews_ltm license  \n",
       "0                      0     NaN  \n",
       "1                      0     NaN  \n",
       "2                      0     NaN  \n",
       "3                      4     NaN  \n",
       "4                      0     NaN  "
      ]
     },
     "metadata": {},
     "output_type": "display_data"
    },
    {
     "name": "stdout",
     "output_type": "stream",
     "text": [
      "\n",
      "Neighborhoods:\n"
     ]
    },
    {
     "data": {
      "text/html": [
       "<div>\n",
       "<style scoped>\n",
       "    .dataframe tbody tr th:only-of-type {\n",
       "        vertical-align: middle;\n",
       "    }\n",
       "\n",
       "    .dataframe tbody tr th {\n",
       "        vertical-align: top;\n",
       "    }\n",
       "\n",
       "    .dataframe thead th {\n",
       "        text-align: right;\n",
       "    }\n",
       "</style>\n",
       "<table border=\"1\" class=\"dataframe\">\n",
       "  <thead>\n",
       "    <tr style=\"text-align: right;\">\n",
       "      <th></th>\n",
       "      <th>neighbourhood_group</th>\n",
       "      <th>neighbourhood</th>\n",
       "    </tr>\n",
       "  </thead>\n",
       "  <tbody>\n",
       "    <tr>\n",
       "      <th>0</th>\n",
       "      <td>Bronx</td>\n",
       "      <td>Allerton</td>\n",
       "    </tr>\n",
       "    <tr>\n",
       "      <th>1</th>\n",
       "      <td>Bronx</td>\n",
       "      <td>Baychester</td>\n",
       "    </tr>\n",
       "    <tr>\n",
       "      <th>2</th>\n",
       "      <td>Bronx</td>\n",
       "      <td>Belmont</td>\n",
       "    </tr>\n",
       "    <tr>\n",
       "      <th>3</th>\n",
       "      <td>Bronx</td>\n",
       "      <td>Bronxdale</td>\n",
       "    </tr>\n",
       "    <tr>\n",
       "      <th>4</th>\n",
       "      <td>Bronx</td>\n",
       "      <td>Castle Hill</td>\n",
       "    </tr>\n",
       "  </tbody>\n",
       "</table>\n",
       "</div>"
      ],
      "text/plain": [
       "  neighbourhood_group neighbourhood\n",
       "0               Bronx      Allerton\n",
       "1               Bronx    Baychester\n",
       "2               Bronx       Belmont\n",
       "3               Bronx     Bronxdale\n",
       "4               Bronx   Castle Hill"
      ]
     },
     "metadata": {},
     "output_type": "display_data"
    },
    {
     "name": "stdout",
     "output_type": "stream",
     "text": [
      "\n",
      "Reviews:\n"
     ]
    },
    {
     "data": {
      "text/html": [
       "<div>\n",
       "<style scoped>\n",
       "    .dataframe tbody tr th:only-of-type {\n",
       "        vertical-align: middle;\n",
       "    }\n",
       "\n",
       "    .dataframe tbody tr th {\n",
       "        vertical-align: top;\n",
       "    }\n",
       "\n",
       "    .dataframe thead th {\n",
       "        text-align: right;\n",
       "    }\n",
       "</style>\n",
       "<table border=\"1\" class=\"dataframe\">\n",
       "  <thead>\n",
       "    <tr style=\"text-align: right;\">\n",
       "      <th></th>\n",
       "      <th>listing_id</th>\n",
       "      <th>date</th>\n",
       "    </tr>\n",
       "  </thead>\n",
       "  <tbody>\n",
       "    <tr>\n",
       "      <th>0</th>\n",
       "      <td>2539</td>\n",
       "      <td>2015-12-04</td>\n",
       "    </tr>\n",
       "    <tr>\n",
       "      <th>1</th>\n",
       "      <td>2539</td>\n",
       "      <td>2016-08-27</td>\n",
       "    </tr>\n",
       "    <tr>\n",
       "      <th>2</th>\n",
       "      <td>2539</td>\n",
       "      <td>2016-10-01</td>\n",
       "    </tr>\n",
       "    <tr>\n",
       "      <th>3</th>\n",
       "      <td>2539</td>\n",
       "      <td>2017-02-20</td>\n",
       "    </tr>\n",
       "    <tr>\n",
       "      <th>4</th>\n",
       "      <td>2539</td>\n",
       "      <td>2017-03-19</td>\n",
       "    </tr>\n",
       "  </tbody>\n",
       "</table>\n",
       "</div>"
      ],
      "text/plain": [
       "   listing_id        date\n",
       "0        2539  2015-12-04\n",
       "1        2539  2016-08-27\n",
       "2        2539  2016-10-01\n",
       "3        2539  2017-02-20\n",
       "4        2539  2017-03-19"
      ]
     },
     "metadata": {},
     "output_type": "display_data"
    }
   ],
   "source": [
    "import pandas as pd\n",
    "\n",
    "\n",
    "\n",
    "# Load the main listings dataset\n",
    "#df = pd.read_csv(\"listings12.csv\")\n",
    "listings_df = pd.read_csv(\"listings.csv\")\n",
    "neighborhoods_df = pd.read_csv(\"neighbourhoods.csv\")\n",
    "reviews_df = pd.read_csv(\"reviews_sample.csv\")\n",
    "\n",
    "# Preview the first few rows\n",
    "#df.head()\n",
    "print(\"Listings:\")\n",
    "display(listings_df.head())\n",
    "\n",
    "print(\"\\nNeighborhoods:\")\n",
    "display(neighborhoods_df.head())\n",
    "\n",
    "print(\"\\nReviews:\")\n",
    "display(reviews_df.head())\n",
    "\n",
    "df = listings_df.copy()\n"
   ]
  },
  {
   "cell_type": "code",
   "execution_count": 2,
   "id": "6b50320c-aef4-4648-bc30-236a48a0658d",
   "metadata": {},
   "outputs": [
    {
     "data": {
      "text/plain": [
       "0        False\n",
       "1        False\n",
       "2        False\n",
       "3        False\n",
       "4        False\n",
       "         ...  \n",
       "37013    False\n",
       "37014    False\n",
       "37015    False\n",
       "37016    False\n",
       "37017    False\n",
       "Length: 37018, dtype: bool"
      ]
     },
     "execution_count": 2,
     "metadata": {},
     "output_type": "execute_result"
    }
   ],
   "source": [
    "df.duplicated() #checking for duplicated rows , explore +inspect given data "
   ]
  },
  {
   "cell_type": "code",
   "execution_count": 3,
   "id": "f3029216-11ca-4d5b-9f98-f9dde008bfd9",
   "metadata": {},
   "outputs": [
    {
     "name": "stdout",
     "output_type": "stream",
     "text": [
      "<class 'pandas.core.frame.DataFrame'>\n",
      "RangeIndex: 37018 entries, 0 to 37017\n",
      "Data columns (total 18 columns):\n",
      " #   Column                          Non-Null Count  Dtype  \n",
      "---  ------                          --------------  -----  \n",
      " 0   id                              37018 non-null  int64  \n",
      " 1   name                            37016 non-null  object \n",
      " 2   host_id                         37018 non-null  int64  \n",
      " 3   host_name                       36993 non-null  object \n",
      " 4   neighbourhood_group             37018 non-null  object \n",
      " 5   neighbourhood                   37018 non-null  object \n",
      " 6   latitude                        37018 non-null  float64\n",
      " 7   longitude                       37018 non-null  float64\n",
      " 8   room_type                       37018 non-null  object \n",
      " 9   price                           21833 non-null  float64\n",
      " 10  minimum_nights                  37018 non-null  int64  \n",
      " 11  number_of_reviews               37018 non-null  int64  \n",
      " 12  last_review                     25358 non-null  object \n",
      " 13  reviews_per_month               25358 non-null  float64\n",
      " 14  calculated_host_listings_count  37018 non-null  int64  \n",
      " 15  availability_365                37018 non-null  int64  \n",
      " 16  number_of_reviews_ltm           37018 non-null  int64  \n",
      " 17  license                         5396 non-null   object \n",
      "dtypes: float64(4), int64(7), object(7)\n",
      "memory usage: 5.1+ MB\n"
     ]
    }
   ],
   "source": [
    "df.info()"
   ]
  },
  {
   "cell_type": "code",
   "execution_count": 4,
   "id": "dafd25ae-395e-41b6-98fb-e854350d31aa",
   "metadata": {},
   "outputs": [
    {
     "data": {
      "text/plain": [
       "license                           31622\n",
       "price                             15185\n",
       "last_review                       11660\n",
       "reviews_per_month                 11660\n",
       "host_name                            25\n",
       "name                                  2\n",
       "host_id                               0\n",
       "neighbourhood_group                   0\n",
       "neighbourhood                         0\n",
       "latitude                              0\n",
       "longitude                             0\n",
       "room_type                             0\n",
       "minimum_nights                        0\n",
       "number_of_reviews                     0\n",
       "calculated_host_listings_count        0\n",
       "availability_365                      0\n",
       "number_of_reviews_ltm                 0\n",
       "id                                    0\n",
       "dtype: int64"
      ]
     },
     "execution_count": 4,
     "metadata": {},
     "output_type": "execute_result"
    }
   ],
   "source": [
    "df.isnull().sum().sort_values(ascending=False).head(20)\n"
   ]
  },
  {
   "cell_type": "code",
   "execution_count": 5,
   "id": "756f8215-17cc-4d85-a7de-42c0c798c0ab",
   "metadata": {},
   "outputs": [
    {
     "data": {
      "text/plain": [
       "room_type                  4\n",
       "neighbourhood_group        5\n",
       "neighbourhood            224\n",
       "license                 2006\n",
       "last_review             3286\n",
       "host_name               8415\n",
       "name                   35355\n",
       "dtype: int64"
      ]
     },
     "execution_count": 5,
     "metadata": {},
     "output_type": "execute_result"
    }
   ],
   "source": [
    "df.select_dtypes(include='object').nunique().sort_values()\n"
   ]
  },
  {
   "cell_type": "code",
   "execution_count": 6,
   "id": "c0643f58-0e36-4ea9-ac0b-683744050681",
   "metadata": {},
   "outputs": [
    {
     "data": {
      "text/html": [
       "<div>\n",
       "<style scoped>\n",
       "    .dataframe tbody tr th:only-of-type {\n",
       "        vertical-align: middle;\n",
       "    }\n",
       "\n",
       "    .dataframe tbody tr th {\n",
       "        vertical-align: top;\n",
       "    }\n",
       "\n",
       "    .dataframe thead th {\n",
       "        text-align: right;\n",
       "    }\n",
       "</style>\n",
       "<table border=\"1\" class=\"dataframe\">\n",
       "  <thead>\n",
       "    <tr style=\"text-align: right;\">\n",
       "      <th></th>\n",
       "      <th>id</th>\n",
       "      <th>host_id</th>\n",
       "      <th>latitude</th>\n",
       "      <th>longitude</th>\n",
       "      <th>price</th>\n",
       "      <th>minimum_nights</th>\n",
       "      <th>number_of_reviews</th>\n",
       "      <th>reviews_per_month</th>\n",
       "      <th>calculated_host_listings_count</th>\n",
       "      <th>availability_365</th>\n",
       "      <th>number_of_reviews_ltm</th>\n",
       "    </tr>\n",
       "  </thead>\n",
       "  <tbody>\n",
       "    <tr>\n",
       "      <th>count</th>\n",
       "      <td>3.701800e+04</td>\n",
       "      <td>3.701800e+04</td>\n",
       "      <td>37018.000000</td>\n",
       "      <td>37018.000000</td>\n",
       "      <td>21833.000000</td>\n",
       "      <td>37018.000000</td>\n",
       "      <td>37018.000000</td>\n",
       "      <td>25358.000000</td>\n",
       "      <td>37018.000000</td>\n",
       "      <td>37018.000000</td>\n",
       "      <td>37018.000000</td>\n",
       "    </tr>\n",
       "    <tr>\n",
       "      <th>mean</th>\n",
       "      <td>4.372920e+17</td>\n",
       "      <td>1.714205e+08</td>\n",
       "      <td>40.728570</td>\n",
       "      <td>-73.947247</td>\n",
       "      <td>233.896808</td>\n",
       "      <td>29.226025</td>\n",
       "      <td>26.240721</td>\n",
       "      <td>0.819498</td>\n",
       "      <td>72.739802</td>\n",
       "      <td>152.444892</td>\n",
       "      <td>3.966719</td>\n",
       "    </tr>\n",
       "    <tr>\n",
       "      <th>std</th>\n",
       "      <td>5.144149e+17</td>\n",
       "      <td>1.888658e+08</td>\n",
       "      <td>0.056333</td>\n",
       "      <td>0.055007</td>\n",
       "      <td>455.382022</td>\n",
       "      <td>35.784675</td>\n",
       "      <td>65.675512</td>\n",
       "      <td>1.851575</td>\n",
       "      <td>235.286250</td>\n",
       "      <td>144.302059</td>\n",
       "      <td>20.022130</td>\n",
       "    </tr>\n",
       "    <tr>\n",
       "      <th>min</th>\n",
       "      <td>2.539000e+03</td>\n",
       "      <td>1.678000e+03</td>\n",
       "      <td>40.500366</td>\n",
       "      <td>-74.251907</td>\n",
       "      <td>8.000000</td>\n",
       "      <td>1.000000</td>\n",
       "      <td>0.000000</td>\n",
       "      <td>0.010000</td>\n",
       "      <td>1.000000</td>\n",
       "      <td>0.000000</td>\n",
       "      <td>0.000000</td>\n",
       "    </tr>\n",
       "    <tr>\n",
       "      <th>25%</th>\n",
       "      <td>2.140000e+07</td>\n",
       "      <td>1.768211e+07</td>\n",
       "      <td>40.688420</td>\n",
       "      <td>-73.983460</td>\n",
       "      <td>90.000000</td>\n",
       "      <td>30.000000</td>\n",
       "      <td>0.000000</td>\n",
       "      <td>0.080000</td>\n",
       "      <td>1.000000</td>\n",
       "      <td>0.000000</td>\n",
       "      <td>0.000000</td>\n",
       "    </tr>\n",
       "    <tr>\n",
       "      <th>50%</th>\n",
       "      <td>5.037505e+07</td>\n",
       "      <td>8.655362e+07</td>\n",
       "      <td>40.726132</td>\n",
       "      <td>-73.955001</td>\n",
       "      <td>150.000000</td>\n",
       "      <td>30.000000</td>\n",
       "      <td>3.000000</td>\n",
       "      <td>0.260000</td>\n",
       "      <td>2.000000</td>\n",
       "      <td>122.000000</td>\n",
       "      <td>0.000000</td>\n",
       "    </tr>\n",
       "    <tr>\n",
       "      <th>75%</th>\n",
       "      <td>9.261013e+17</td>\n",
       "      <td>3.036643e+08</td>\n",
       "      <td>40.762271</td>\n",
       "      <td>-73.928302</td>\n",
       "      <td>268.000000</td>\n",
       "      <td>30.000000</td>\n",
       "      <td>22.000000</td>\n",
       "      <td>0.940000</td>\n",
       "      <td>8.000000</td>\n",
       "      <td>296.000000</td>\n",
       "      <td>1.000000</td>\n",
       "    </tr>\n",
       "    <tr>\n",
       "      <th>max</th>\n",
       "      <td>1.410916e+18</td>\n",
       "      <td>6.919326e+08</td>\n",
       "      <td>40.912017</td>\n",
       "      <td>-73.711822</td>\n",
       "      <td>20000.000000</td>\n",
       "      <td>1250.000000</td>\n",
       "      <td>3047.000000</td>\n",
       "      <td>120.430000</td>\n",
       "      <td>1225.000000</td>\n",
       "      <td>365.000000</td>\n",
       "      <td>1792.000000</td>\n",
       "    </tr>\n",
       "  </tbody>\n",
       "</table>\n",
       "</div>"
      ],
      "text/plain": [
       "                 id       host_id      latitude     longitude         price  \\\n",
       "count  3.701800e+04  3.701800e+04  37018.000000  37018.000000  21833.000000   \n",
       "mean   4.372920e+17  1.714205e+08     40.728570    -73.947247    233.896808   \n",
       "std    5.144149e+17  1.888658e+08      0.056333      0.055007    455.382022   \n",
       "min    2.539000e+03  1.678000e+03     40.500366    -74.251907      8.000000   \n",
       "25%    2.140000e+07  1.768211e+07     40.688420    -73.983460     90.000000   \n",
       "50%    5.037505e+07  8.655362e+07     40.726132    -73.955001    150.000000   \n",
       "75%    9.261013e+17  3.036643e+08     40.762271    -73.928302    268.000000   \n",
       "max    1.410916e+18  6.919326e+08     40.912017    -73.711822  20000.000000   \n",
       "\n",
       "       minimum_nights  number_of_reviews  reviews_per_month  \\\n",
       "count    37018.000000       37018.000000       25358.000000   \n",
       "mean        29.226025          26.240721           0.819498   \n",
       "std         35.784675          65.675512           1.851575   \n",
       "min          1.000000           0.000000           0.010000   \n",
       "25%         30.000000           0.000000           0.080000   \n",
       "50%         30.000000           3.000000           0.260000   \n",
       "75%         30.000000          22.000000           0.940000   \n",
       "max       1250.000000        3047.000000         120.430000   \n",
       "\n",
       "       calculated_host_listings_count  availability_365  number_of_reviews_ltm  \n",
       "count                    37018.000000      37018.000000           37018.000000  \n",
       "mean                        72.739802        152.444892               3.966719  \n",
       "std                        235.286250        144.302059              20.022130  \n",
       "min                          1.000000          0.000000               0.000000  \n",
       "25%                          1.000000          0.000000               0.000000  \n",
       "50%                          2.000000        122.000000               0.000000  \n",
       "75%                          8.000000        296.000000               1.000000  \n",
       "max                       1225.000000        365.000000            1792.000000  "
      ]
     },
     "execution_count": 6,
     "metadata": {},
     "output_type": "execute_result"
    }
   ],
   "source": [
    "df.describe()\n"
   ]
  },
  {
   "cell_type": "code",
   "execution_count": 7,
   "id": "443d7a46-2f8e-4519-8b2a-fd224761d706",
   "metadata": {},
   "outputs": [],
   "source": [
    "cols_to_drop = [col for col in [\"id\", \"scrape_id\", \"host_id\", \"host_url\", \"listing_url\", \"picture_url\"] if col in df.columns]\n",
    "df.drop(columns=cols_to_drop, inplace=True)\n"
   ]
  },
  {
   "cell_type": "code",
   "execution_count": 8,
   "id": "192bd379-346f-45a5-851e-a5fd78a721f6",
   "metadata": {},
   "outputs": [],
   "source": [
    "# Fill review scores with their average\n",
    "# Fill review scores with their average\n",
    "review_cols = [col for col in df.columns if \"review_scores\" in col]\n",
    "for col in review_cols:\n",
    "    df[col] = df[col].fillna(df[col].mean())\n",
    "\n",
    "# Fill missing bathrooms, bedrooms, and beds with default value 1 if column exists\n",
    "for col in [\"bathrooms\", \"bedrooms\", \"beds\"]:\n",
    "    if col in df.columns:\n",
    "        df[col] = df[col].fillna(1)\n",
    "\n"
   ]
  },
  {
   "cell_type": "code",
   "execution_count": 9,
   "id": "8659893f-a568-4723-b447-c2ec2537cad1",
   "metadata": {},
   "outputs": [],
   "source": [
    "# Fill neighborhood/host_about/etc with \"Unknown\"\n",
    "text_cols = [\"neighbourhood\", \"neighbourhood_overview\", \"host_about\", \"host_neighbourhood\"]\n",
    "for col in text_cols:\n",
    "    if col in df.columns:\n",
    "        df[col] = df[col].fillna(\"Unknown\")\n"
   ]
  },
  {
   "cell_type": "code",
   "execution_count": 10,
   "id": "700baa48-ecc3-4f23-b7df-d9720a136fcd",
   "metadata": {},
   "outputs": [
    {
     "name": "stdout",
     "output_type": "stream",
     "text": [
      "Max price: 20000.0\n"
     ]
    }
   ],
   "source": [
    "df[\"price\"] = df[\"price\"].replace(r'[\\$,]', '', regex=True).astype(float)\n",
    "print(\"Max price:\", df[\"price\"].max())\n",
    "\n"
   ]
  },
  {
   "cell_type": "code",
   "execution_count": 11,
   "id": "4c048c17-1c31-4fc4-97bc-78a32484a037",
   "metadata": {},
   "outputs": [
    {
     "name": "stdout",
     "output_type": "stream",
     "text": [
      "['name', 'host_name', 'neighbourhood_group', 'neighbourhood', 'latitude', 'longitude', 'room_type', 'price', 'minimum_nights', 'number_of_reviews', 'last_review', 'reviews_per_month', 'calculated_host_listings_count', 'availability_365', 'number_of_reviews_ltm', 'license']\n"
     ]
    }
   ],
   "source": [
    "print(df.columns.tolist())\n"
   ]
  },
  {
   "cell_type": "code",
   "execution_count": 12,
   "id": "26347271-dc09-4ae3-8a17-9df205c6959d",
   "metadata": {},
   "outputs": [
    {
     "name": "stdout",
     "output_type": "stream",
     "text": [
      "Min price: 8.0\n",
      "Max price: 10000.0\n",
      "Missing prices left: 0\n"
     ]
    }
   ],
   "source": [
    "# Ensure price is numeric (in case it's not)\n",
    "df[\"price\"] = pd.to_numeric(df[\"price\"], errors=\"coerce\")\n",
    "\n",
    "# Drop listings where price is 0 or extremely high (over $10,000)\n",
    "df = df[(df[\"price\"] > 0) & (df[\"price\"] <= 10000)]\n",
    "\n",
    "# Fill remaining missing prices with the median price\n",
    "median_price = df[\"price\"].median()\n",
    "df[\"price\"] = df[\"price\"].fillna(median_price)\n",
    "\n",
    "# Confirm it's clean\n",
    "print(\"Min price:\", df[\"price\"].min())\n",
    "print(\"Max price:\", df[\"price\"].max())\n",
    "print(\"Missing prices left:\", df[\"price\"].isnull().sum())\n"
   ]
  },
  {
   "cell_type": "code",
   "execution_count": 13,
   "id": "6bf5542a-f859-4056-9a10-f9c920925e3f",
   "metadata": {},
   "outputs": [
    {
     "name": "stdout",
     "output_type": "stream",
     "text": [
      "⚠️ 'bedrooms' column not found in dataset.\n"
     ]
    }
   ],
   "source": [
    "if 'bedrooms' in df.columns:\n",
    "    df['bedrooms'] = df['bedrooms'].fillna(1)  # fill missing with 1\n",
    "    df['bedrooms'] = df['bedrooms'].apply(lambda x: min(x, 10))  # cap max at 10\n",
    "    print(\"✅ Bedrooms column cleaned and capped.\")\n",
    "    print(\"Min bedrooms:\", df[\"bedrooms\"].min())\n",
    "    print(\"Max bedrooms:\", df[\"bedrooms\"].max())\n",
    "else:\n",
    "    print(\"⚠️ 'bedrooms' column not found in dataset.\")\n"
   ]
  },
  {
   "cell_type": "code",
   "execution_count": 14,
   "id": "f8f52726-598b-4c2d-929d-cda0024355b2",
   "metadata": {},
   "outputs": [
    {
     "name": "stdout",
     "output_type": "stream",
     "text": [
      "Requirement already satisfied: xgboost in c:\\users\\munal\\anaconda3\\lib\\site-packages (3.0.2)\n",
      "Requirement already satisfied: numpy in c:\\users\\munal\\anaconda3\\lib\\site-packages (from xgboost) (1.26.4)\n",
      "Requirement already satisfied: scipy in c:\\users\\munal\\anaconda3\\lib\\site-packages (from xgboost) (1.13.1)\n"
     ]
    }
   ],
   "source": [
    "!pip install xgboost\n"
   ]
  },
  {
   "cell_type": "code",
   "execution_count": null,
   "id": "e480c0ac-5647-4cdc-8bf7-7cce28ead1d0",
   "metadata": {},
   "outputs": [],
   "source": []
  },
  {
   "cell_type": "code",
   "execution_count": 15,
   "id": "cd294501-39b1-4a79-8be1-49147383c5b0",
   "metadata": {},
   "outputs": [],
   "source": [
    "# Define features and target\n",
    "features = ['neighbourhood', 'neighbourhood_group', 'room_type', \n",
    "            'minimum_nights', 'number_of_reviews', 'availability_365']\n",
    "target = 'price'\n"
   ]
  },
  {
   "cell_type": "code",
   "execution_count": 16,
   "id": "e8386589-0338-4166-a048-f0d8b3c066d5",
   "metadata": {},
   "outputs": [],
   "source": [
    "from sklearn.preprocessing import OneHotEncoder\n",
    "#this step is resoponisble for dropping missing values + enconding, taking catgorial values into numerical values \n",
    "\n",
    "# Drop rows with missing values in features + target\n",
    "df_clean = df.dropna(subset=features + [target])\n",
    "\n",
    "# One-hot encode categorical columns\n",
    "categorical_columns = ['room_type', 'neighbourhood_group', 'neighbourhood']\n",
    "encoder = OneHotEncoder(sparse_output=False, handle_unknown='ignore')\n",
    "\n",
    "# Apply encoder to categorical columns\n",
    "one_hot_encoded = encoder.fit_transform(df_clean[categorical_columns])\n",
    "\n",
    "# Convert to DataFrame\n",
    "one_hot_df = pd.DataFrame(one_hot_encoded, \n",
    "                          columns=encoder.get_feature_names_out(categorical_columns),\n",
    "                          index=df_clean.index)\n",
    "\n",
    "# Drop original categorical columns and combine with one-hot columns\n",
    "df_encoded = df_clean.drop(columns=categorical_columns).join(one_hot_df)\n",
    "\n",
    "# Separate features (X) and target (y)\n",
    "X = df_encoded.drop(columns=[target])\n",
    "y = df_encoded[target]\n"
   ]
  },
  {
   "cell_type": "code",
   "execution_count": 17,
   "id": "a9a4fdda-52ca-408c-816a-fdd2ed24ee73",
   "metadata": {},
   "outputs": [
    {
     "ename": "NameError",
     "evalue": "name 'xgb_model' is not defined",
     "output_type": "error",
     "traceback": [
      "\u001b[1;31m---------------------------------------------------------------------------\u001b[0m",
      "\u001b[1;31mNameError\u001b[0m                                 Traceback (most recent call last)",
      "Cell \u001b[1;32mIn[17], line 5\u001b[0m\n\u001b[0;32m      2\u001b[0m \u001b[38;5;28;01mimport\u001b[39;00m \u001b[38;5;21;01mnumpy\u001b[39;00m \u001b[38;5;28;01mas\u001b[39;00m \u001b[38;5;21;01mnp\u001b[39;00m\n\u001b[0;32m      4\u001b[0m \u001b[38;5;66;03m# Make predictions\u001b[39;00m\n\u001b[1;32m----> 5\u001b[0m y_pred \u001b[38;5;241m=\u001b[39m xgb_model\u001b[38;5;241m.\u001b[39mpredict(X_test)\n\u001b[0;32m      7\u001b[0m \u001b[38;5;66;03m# Evaluate the model\u001b[39;00m\n\u001b[0;32m      8\u001b[0m \u001b[38;5;28mprint\u001b[39m(\u001b[38;5;124m\"\u001b[39m\u001b[38;5;124m📉 Mean Absolute Error (MAE):\u001b[39m\u001b[38;5;124m\"\u001b[39m, mean_absolute_error(y_test, y_pred))\n",
      "\u001b[1;31mNameError\u001b[0m: name 'xgb_model' is not defined"
     ]
    }
   ],
   "source": [
    "from sklearn.metrics import mean_absolute_error, mean_squared_error, r2_score\n",
    "import numpy as np\n",
    "\n",
    "# Make predictions\n",
    "y_pred = xgb_model.predict(X_test)\n",
    "\n",
    "# Evaluate the model\n",
    "print(\"📉 Mean Absolute Error (MAE):\", mean_absolute_error(y_test, y_pred))\n",
    "print(\"📉 Root Mean Squared Error (RMSE):\", np.sqrt(mean_squared_error(y_test, y_pred)))\n",
    "print(\"📈 R² Score:\", r2_score(y_test, y_pred))\n"
   ]
  },
  {
   "cell_type": "code",
   "execution_count": null,
   "id": "4dab4e36-f73e-41cc-9db8-a5606a1001aa",
   "metadata": {},
   "outputs": [],
   "source": [
    "import matplotlib.pyplot as plt\n",
    "\n",
    "# Get feature importances from the trained XGBoost model\n",
    "importances = xgb_model.feature_importances_\n",
    "feature_names = X_train.columns\n",
    "\n",
    "# Sort and plot the top features\n",
    "sorted_idx = importances.argsort()[::-1]  # Sort descending\n",
    "top_n = 10  # You can change this number\n",
    "\n",
    "plt.figure(figsize=(10, 6))\n",
    "plt.barh(range(top_n), importances[sorted_idx[:top_n]][::-1])\n",
    "plt.yticks(range(top_n), feature_names[sorted_idx[:top_n]][::-1])\n",
    "plt.xlabel(\"Feature Importance\")\n",
    "plt.title(\"Top Features Influencing Airbnb Price Prediction\")\n",
    "plt.tight_layout()\n",
    "plt.show()\n"
   ]
  },
  {
   "cell_type": "code",
   "execution_count": null,
   "id": "4352300a-bc6a-495f-9e89-94be4a558f04",
   "metadata": {},
   "outputs": [],
   "source": [
    "# Copy X_test to avoid modifying the original\n",
    "results_df = X_test.copy()\n",
    "\n",
    "# Add actual and predicted prices\n",
    "results_df['actual_price'] = y_test.values\n",
    "results_df['predicted_price'] = y_pred\n",
    "\n",
    "# Reset index for mapping\n",
    "results_df = results_df.reset_index(drop=True)\n",
    "\n",
    "# Add latitude and longitude from original df using y_test.index\n",
    "results_df['latitude'] = df.loc[y_test.index, 'latitude'].values\n",
    "results_df['longitude'] = df.loc[y_test.index, 'longitude'].values\n",
    "\n",
    "# Preview results\n",
    "results_df.head()\n"
   ]
  },
  {
   "cell_type": "code",
   "execution_count": null,
   "id": "cf7d2822-0cf4-41f0-a713-dbf6e46f73a0",
   "metadata": {},
   "outputs": [],
   "source": [
    "!pip install folium\n"
   ]
  },
  {
   "cell_type": "code",
   "execution_count": null,
   "id": "9dc2ae19-b7a8-4fb0-ba4b-854039f0bf77",
   "metadata": {},
   "outputs": [],
   "source": [
    "import folium\n",
    "from folium.plugins import MarkerCluster\n"
   ]
  },
  {
   "cell_type": "code",
   "execution_count": null,
   "id": "8c2c0659-3808-404f-bbf5-4efa2744e546",
   "metadata": {},
   "outputs": [],
   "source": [
    "# Center the map on average location\n",
    "map_center = [results_df['latitude'].mean(), results_df['longitude'].mean()]\n",
    "airbnb_map = folium.Map(location=map_center, zoom_start=11)\n"
   ]
  },
  {
   "cell_type": "code",
   "execution_count": null,
   "id": "01ee3591-5775-4b44-9e1e-2f6559ce5d4f",
   "metadata": {},
   "outputs": [],
   "source": [
    "marker_cluster = MarkerCluster().add_to(airbnb_map)\n",
    "\n",
    "for _, row in results_df.iterrows():\n",
    "    actual = row['actual_price']\n",
    "    predicted = row['predicted_price']\n",
    "    \n",
    "    # Simple rule for color\n",
    "    if predicted < actual * 0.9:\n",
    "        color = 'green'  # underpriced\n",
    "    elif predicted > actual * 1.1:\n",
    "        color = 'red'    # overpriced\n",
    "    else:\n",
    "        color = 'blue'   # accurate\n",
    "\n",
    "    popup_text = f\"\"\"\n",
    "    <b>Actual Price:</b> ${actual:.2f}<br>\n",
    "    <b>Predicted Price:</b> ${predicted:.2f}\n",
    "    \"\"\"\n",
    "\n",
    "    folium.CircleMarker(\n",
    "        location=[row['latitude'], row['longitude']],\n",
    "        radius=5,\n",
    "        popup=popup_text,\n",
    "        color=color,\n",
    "        fill=True,\n",
    "        fill_opacity=0.6\n",
    "    ).add_to(marker_cluster)\n"
   ]
  },
  {
   "cell_type": "code",
   "execution_count": null,
   "id": "0526bbc1-c753-4412-853a-3d53c5155109",
   "metadata": {},
   "outputs": [],
   "source": [
    "airbnb_map\n"
   ]
  },
  {
   "cell_type": "code",
   "execution_count": null,
   "id": "f96c13b3-5169-40fb-a371-42287fdc8db0",
   "metadata": {},
   "outputs": [],
   "source": [
    "# Recreate results_df from your test set and predictions\n",
    "results_df = X_test.copy()\n",
    "results_df['actual_price'] = y_test.values\n",
    "results_df['predicted_price'] = y_pred\n",
    "results_df = results_df.reset_index(drop=True)\n",
    "\n",
    "# Add latitude & longitude back from original df using index alignment\n",
    "results_df['latitude'] = df.loc[results_df.index, 'latitude'].values\n",
    "results_df['longitude'] = df.loc[results_df.index, 'longitude'].values\n",
    "\n",
    "# Confirm it worked\n",
    "print(results_df.columns)\n",
    "results_df.head()\n"
   ]
  },
  {
   "cell_type": "code",
   "execution_count": null,
   "id": "d3facbc0-a3e0-4aaa-82d3-e58fafeae1e0",
   "metadata": {},
   "outputs": [],
   "source": [
    "xgb_model.fit(X_train, y_train)\n"
   ]
  },
  {
   "cell_type": "code",
   "execution_count": null,
   "id": "adacfa82-98aa-457b-a672-99345f862587",
   "metadata": {},
   "outputs": [],
   "source": [
    "from sklearn.model_selection import train_test_split\n",
    "\n",
    "X = df_encoded.drop(columns=['price'])  # Replace 'price' if your target is named differently\n",
    "y = df_encoded['price']\n",
    "\n",
    "X_train, X_test, y_train, y_test = train_test_split(X, y, test_size=0.2, random_state=42)\n"
   ]
  },
  {
   "cell_type": "code",
   "execution_count": null,
   "id": "e3fb1bfd-72c4-4c8f-a19d-be63026fe91e",
   "metadata": {},
   "outputs": [],
   "source": [
    "from xgboost import XGBRegressor\n",
    "\n",
    "xgb_model = XGBRegressor(\n",
    "    n_estimators=100,\n",
    "    learning_rate=0.1,\n",
    "    max_depth=5,\n",
    "    random_state=42\n",
    ")\n",
    "\n",
    "xgb_model.fit(X_train, y_train)\n"
   ]
  },
  {
   "cell_type": "code",
   "execution_count": null,
   "id": "6a18365f-5013-455b-b0dc-886fbcd73716",
   "metadata": {},
   "outputs": [],
   "source": [
    "print(X_train.dtypes[X_train.dtypes == 'object'])\n"
   ]
  },
  {
   "cell_type": "code",
   "execution_count": null,
   "id": "4ce5f165-d847-4b4a-b690-58c557866013",
   "metadata": {},
   "outputs": [],
   "source": [
    "df_encoded = df_encoded.drop(columns=['name', 'host_name', 'last_review', 'license'])\n"
   ]
  },
  {
   "cell_type": "code",
   "execution_count": null,
   "id": "86a72abb-6b54-46e3-9ef1-0df5083f9a9d",
   "metadata": {},
   "outputs": [],
   "source": [
    "from sklearn.metrics import mean_absolute_error, mean_squared_error, r2_score\n",
    "import numpy as np\n",
    "\n",
    "# Make predictions\n",
    "y_pred = xgb_model.predict(X_test)\n",
    "\n",
    "# Evaluation metrics\n",
    "mae = mean_absolute_error(y_test, y_pred)\n",
    "mse = mean_squared_error(y_test, y_pred)\n",
    "rmse = np.sqrt(mse)\n",
    "r2 = r2_score(y_test, y_pred)\n",
    "\n",
    "# Print results\n",
    "print(f\"MAE: ${mae:.2f}\")\n",
    "print(f\"RMSE: ${rmse:.2f}\")\n",
    "print(f\"R² Score: {r2:.2f}\")\n"
   ]
  },
  {
   "cell_type": "code",
   "execution_count": null,
   "id": "42362cff-752d-432a-83f7-cca322d3e01e",
   "metadata": {},
   "outputs": [],
   "source": [
    "import matplotlib.pyplot as plt\n",
    "\n",
    "# Get feature importances from the trained model\n",
    "importances = xgb_model.feature_importances_\n",
    "feature_names = X_train.columns\n",
    "\n",
    "# Sort top features\n",
    "sorted_idx = importances.argsort()[::-1]\n",
    "top_n = 10  # adjust if you want more or fewer\n",
    "top_features = feature_names[sorted_idx[:top_n]]\n",
    "top_importances = importances[sorted_idx[:top_n]]\n",
    "\n",
    "# Plot\n",
    "plt.figure(figsize=(10, 6))\n",
    "plt.barh(range(top_n), top_importances[::-1])\n",
    "plt.yticks(range(top_n), top_features[::-1])\n",
    "plt.xlabel(\"Feature Importance\")\n",
    "plt.title(\"Top Features Influencing Airbnb Price Prediction\")\n",
    "plt.tight_layout()\n",
    "plt.show()\n"
   ]
  },
  {
   "cell_type": "code",
   "execution_count": null,
   "id": "68a8de36-532f-4a3f-acb3-3493028a7d9a",
   "metadata": {},
   "outputs": [],
   "source": [
    "map_df = X_test.copy()\n",
    "map_df['Actual Price'] = y_test\n",
    "map_df['Predicted Price'] = y_pred\n",
    "\n",
    "# Add back location info if dropped earlier (latitude, longitude)\n",
    "if 'latitude' not in map_df.columns or 'longitude' not in map_df.columns:\n",
    "    map_df['latitude'] = df.loc[map_df.index, 'latitude']\n",
    "    map_df['longitude'] = df.loc[map_df.index, 'longitude']\n",
    "\n",
    "# Optional: round values for display\n",
    "map_df['Predicted Price'] = map_df['Predicted Price'].round(2)\n",
    "map_df['Actual Price'] = map_df['Actual Price'].round(2)\n",
    "\n",
    "# Drop rows without lat/lon just in case\n",
    "map_df.dropna(subset=['latitude', 'longitude'], inplace=True)\n"
   ]
  },
  {
   "cell_type": "code",
   "execution_count": null,
   "id": "eca0829f-6a71-45e3-b6df-d83c31092fc5",
   "metadata": {},
   "outputs": [],
   "source": [
    "import folium\n",
    "from folium.plugins import MarkerCluster\n",
    "\n",
    "# Start the map centered around NYC\n",
    "nyc_map = folium.Map(location=[40.7128, -74.0060], zoom_start=11)\n",
    "marker_cluster = MarkerCluster().add_to(nyc_map)\n",
    "\n",
    "# Add points\n",
    "for idx, row in map_df.iterrows():\n",
    "    popup_text = f\"\"\"\n",
    "    <b>Actual Price:</b> ${row['Actual Price']}<br>\n",
    "    <b>Predicted Price:</b> ${row['Predicted Price']}<br>\n",
    "    <b>Room Type:</b> {row.get('room_type_Private room', 'N/A')}<br>\n",
    "    <b>Neighborhood:</b> {row.get('neighbourhood_group_Brooklyn', 'N/A')}\n",
    "    \"\"\"\n",
    "    \n",
    "    folium.Marker(\n",
    "        location=[row['latitude'], row['longitude']],\n",
    "        popup=folium.Popup(popup_text, max_width=300),\n",
    "        icon=folium.Icon(color='blue', icon='home', prefix='fa')\n",
    "    ).add_to(marker_cluster)\n",
    "\n",
    "# Display the map\n",
    "nyc_map\n"
   ]
  },
  {
   "cell_type": "code",
   "execution_count": null,
   "id": "4dcb3857-57c2-4cb3-b7f8-2388bd522b6f",
   "metadata": {},
   "outputs": [],
   "source": []
  },
  {
   "cell_type": "code",
   "execution_count": null,
   "id": "0c4835a7-32e3-43f9-8086-d1531808aa5c",
   "metadata": {},
   "outputs": [],
   "source": []
  }
 ],
 "metadata": {
  "kernelspec": {
   "display_name": "Python 3 (ipykernel)",
   "language": "python",
   "name": "python3"
  },
  "language_info": {
   "codemirror_mode": {
    "name": "ipython",
    "version": 3
   },
   "file_extension": ".py",
   "mimetype": "text/x-python",
   "name": "python",
   "nbconvert_exporter": "python",
   "pygments_lexer": "ipython3",
   "version": "3.12.7"
  }
 },
 "nbformat": 4,
 "nbformat_minor": 5
}
